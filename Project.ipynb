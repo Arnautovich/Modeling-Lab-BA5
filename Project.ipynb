{
 "cells": [
  {
   "cell_type": "code",
   "execution_count": 2,
   "metadata": {},
   "outputs": [],
   "source": [
    "\n",
    "import pandas as pd\n",
    "import matplotlib.pyplot as plt\n",
    "import numpy as np\n",
    "import pyiast as pyiast\n",
    "from matplotlib.ticker import (MultipleLocator, AutoMinorLocator)"
   ]
  },
  {
   "cell_type": "code",
   "execution_count": 6,
   "metadata": {},
   "outputs": [
    {
     "name": "stdout",
     "output_type": "stream",
     "text": [
      "Values for Mg-MOF-74:\n",
      "The accessible surface area is: 222.828 A^2\n",
      "The density is: 0.886275 g/cm^3\n",
      "The accessible probeoccupiable volume is: 837.198 A^2\n",
      "The porosity of the material is: 0.61368\n"
     ]
    }
   ],
   "source": [
    "#Pore analysis for Mg-MOF-74\n",
    "pore_analysis_Mg=pd.read_csv(\"Mg-MOF-74.csv\")\n",
    "print(\"Values for Mg-MOF-74:\")\n",
    "print(\"The accessible surface area is:\", (pore_analysis_Mg.loc[pore_analysis_Mg['Key'] == \"ASA_A^2\"]).iloc[0, 1] + \" A^2\")\n",
    "\n",
    "print(\"The density is:\",(pore_analysis_Mg.loc[pore_analysis_Mg['Key'] == \"Density\"]).iloc[0, 1] + \" g/cm^3\")\n",
    "\n",
    "print(\"The accessible probeoccupiable volume is:\",(pore_analysis_Mg.loc[pore_analysis_Mg['Key'] == \"POAV_A^3\"]).iloc[0, 1] + \" A^2\")\n",
    "\n",
    "print(\"The porosity of the material is:\",(pore_analysis_Mg.loc[pore_analysis_Mg['Key'] == \"POAV_Volume_fraction\"]).iloc[0, 1])"
   ]
  },
  {
   "cell_type": "code",
   "execution_count": 7,
   "metadata": {},
   "outputs": [
    {
     "name": "stdout",
     "output_type": "stream",
     "text": [
      "Values for NOOT-300:\n",
      "The accessible surface area is: 453.452 A^2\n",
      "The density is: 1.03926 g/cm^3\n",
      "The accessible probeoccupiable volume is: 1297.11 A^2\n",
      "The porosity of the material is: 0.48999\n"
     ]
    }
   ],
   "source": [
    "#pore analysis is NOTT-300\n",
    "pore_analysis=pd.read_csv(\"NOTT-300.csv\")\n",
    "print(\"Values for NOOT-300:\")\n",
    "\n",
    "print(\"The accessible surface area is:\", (pore_analysis.loc[pore_analysis['Key'] == \"ASA_A^2\"]).iloc[0, 1] + \" A^2\")\n",
    "\n",
    "print(\"The density is:\",(pore_analysis.loc[pore_analysis['Key'] == \"Density\"]).iloc[0, 1] + \" g/cm^3\")\n",
    "\n",
    "print(\"The accessible probeoccupiable volume is:\",(pore_analysis.loc[pore_analysis['Key'] == \"POAV_A^3\"]).iloc[0, 1] + \" A^2\")\n",
    "\n",
    "print(\"The porosity of the material is:\",(pore_analysis.loc[pore_analysis['Key'] == \"POAV_Volume_fraction\"]).iloc[0, 1])\n"
   ]
  },
  {
   "cell_type": "code",
   "execution_count": 8,
   "metadata": {},
   "outputs": [
    {
     "name": "stdout",
     "output_type": "stream",
     "text": [
      "Values for UTSA-20:\n",
      "The accessible surface area is: 1307.51 A^2\n",
      "The density is: 0.882399 g/cm^3\n",
      "The accessible probeoccupiable volume is: 3575.36 A^2\n",
      "The porosity of the material is: 0.62907\n"
     ]
    }
   ],
   "source": [
    "#pore analysis of UTSA-20\n",
    "pore_analysis=pd.read_csv(\"UTSA-20.csv\")\n",
    "print(\"Values for UTSA-20:\")\n",
    "\n",
    "print(\"The accessible surface area is:\", (pore_analysis.loc[pore_analysis['Key'] == \"ASA_A^2\"]).iloc[0, 1] + \" A^2\")\n",
    "\n",
    "print(\"The density is:\",(pore_analysis.loc[pore_analysis['Key'] == \"Density\"]).iloc[0, 1] + \" g/cm^3\")\n",
    "\n",
    "print(\"The accessible probeoccupiable volume is:\",(pore_analysis.loc[pore_analysis['Key'] == \"POAV_A^3\"]).iloc[0, 1] + \" A^2\")\n",
    "\n",
    "print(\"The porosity of the material is:\",(pore_analysis.loc[pore_analysis['Key'] == \"POAV_Volume_fraction\"]).iloc[0, 1])\n",
    "\n",
    "\n",
    "#get henry coefficient and the unit\n",
    "#CO2\n",
    "df_CO2=pd.read_csv(\"CH4_300K.csv\")\n",
    "KH_CO2=df_CO2[df_CO2[\"Key\"] == \"henry_coefficient_average\"][\"Value\"]\n",
    "KH_CO2_unit=df_CO2[df_CO2[\"Key\"] == \"henry_coefficient_unit\"][\"Value\"]\n",
    "print(f\"The average Henry coefficient is {float(KH_CO2.iloc[0])} {KH_CO2_unit.iloc[0]}\")\n",
    "#N2\n",
    "df_N2=pd.read_csv(\"CH4_300K.csv\")\n",
    "KH_N2=df_N2[df_N2[\"Key\"] == \"henry_coefficient_average\"][\"Value\"]\n",
    "KH_N2_unit=df_N2[df_N2[\"Key\"] == \"henry_coefficient_unit\"][\"Value\"]\n",
    "print(f\"The average Henry coefficient is {float(KH_N2.iloc[0])} {KH_N2_unit.iloc[0]}\")\n"
   ]
  },
  {
   "cell_type": "code",
   "execution_count": 9,
   "metadata": {},
   "outputs": [
    {
     "name": "stdout",
     "output_type": "stream",
     "text": [
      "Values for ZIF-8:\n",
      "The accessible surface area is: 787.421 A^2\n",
      "The density is: 0.909567 g/cm^3\n",
      "The accessible probeoccupiable volume is: 2488.25 A^2\n",
      "The porosity of the material is: 0.49906\n"
     ]
    }
   ],
   "source": [
    "#pore analysis of ZIF-8\n",
    "pore_analysis=pd.read_csv(\"ZIF-8.csv\")\n",
    "print(\"Values for ZIF-8:\")\n",
    "#just need to print the differents data\n",
    "print(\"The accessible surface area is:\", (pore_analysis.loc[pore_analysis['Key'] == \"ASA_A^2\"]).iloc[0, 1] + \" A^2\")\n",
    "\n",
    "print(\"The density is:\",(pore_analysis.loc[pore_analysis['Key'] == \"Density\"]).iloc[0, 1] + \" g/cm^3\")\n",
    "\n",
    "print(\"The accessible probeoccupiable volume is:\",(pore_analysis.loc[pore_analysis['Key'] == \"POAV_A^3\"]).iloc[0, 1] + \" A^2\")\n",
    "\n",
    "print(\"The porosity of the material is:\",(pore_analysis.loc[pore_analysis['Key'] == \"POAV_Volume_fraction\"]).iloc[0, 1])"
   ]
  },
  {
   "cell_type": "code",
   "execution_count": 10,
   "metadata": {},
   "outputs": [
    {
     "name": "stdout",
     "output_type": "stream",
     "text": [
      "Values for UTSA-80:\n",
      "The accessible surface area is: 3114.62 A^2\n",
      "The density is: 0.678215 g/cm^3\n",
      "The accessible probeoccupiable volume is: 9619.78 A^2\n",
      "The porosity of the material is: 0.66798\n"
     ]
    }
   ],
   "source": [
    "pore_analysis=pd.read_csv(\"UTSA-80.csv\")\n",
    "print(\"Values for UTSA-80:\")\n",
    "#just need to print the differents data\n",
    "print(\"The accessible surface area is:\", (pore_analysis.loc[pore_analysis['Key'] == \"ASA_A^2\"]).iloc[0, 1] + \" A^2\")\n",
    "\n",
    "print(\"The density is:\",(pore_analysis.loc[pore_analysis['Key'] == \"Density\"]).iloc[0, 1] + \" g/cm^3\")\n",
    "\n",
    "print(\"The accessible probeoccupiable volume is:\",(pore_analysis.loc[pore_analysis['Key'] == \"POAV_A^3\"]).iloc[0, 1] + \" A^2\")\n",
    "\n",
    "print(\"The porosity of the material is:\",(pore_analysis.loc[pore_analysis['Key'] == \"POAV_Volume_fraction\"]).iloc[0, 1])"
   ]
  },
  {
   "cell_type": "code",
   "execution_count": null,
   "metadata": {},
   "outputs": [],
   "source": []
  }
 ],
 "metadata": {
  "kernelspec": {
   "display_name": "base",
   "language": "python",
   "name": "python3"
  },
  "language_info": {
   "codemirror_mode": {
    "name": "ipython",
    "version": 3
   },
   "file_extension": ".py",
   "mimetype": "text/x-python",
   "name": "python",
   "nbconvert_exporter": "python",
   "pygments_lexer": "ipython3",
   "version": "3.12.3"
  }
 },
 "nbformat": 4,
 "nbformat_minor": 2
}
